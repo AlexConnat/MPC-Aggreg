{
 "cells": [
  {
   "cell_type": "code",
   "execution_count": 1,
   "metadata": {},
   "outputs": [],
   "source": [
    "import pandas as pd\n",
    "from collections import Counter\n",
    "import numpy as np\n",
    "import os"
   ]
  },
  {
   "cell_type": "code",
   "execution_count": 42,
   "metadata": {},
   "outputs": [],
   "source": [
    "RESULTS_FOLDERS = ['0MS_LATENCY_RESULTS', 'GOOD_5MS_LATENCY', 'GOOD_50MS_LATENCY', 'GOOD_200MS_LATENCY']\n",
    "\n",
    "RESULTS_FOLDER = RESULTS_FOLDERS[3]"
   ]
  },
  {
   "cell_type": "code",
   "execution_count": 43,
   "metadata": {},
   "outputs": [
    {
     "name": "stdout",
     "output_type": "stream",
     "text": [
      "mnist250_12c_15s_1567098125.csv\n",
      "mnist250_2c_15s_1567095254.csv\n",
      "mnist250_17c_15s_1567100336.csv\n",
      "mnist250_9c_15s_1567097254.csv\n",
      "mnist250_5c_15s_1567096089.csv\n",
      "mnist250_4c_15s_1567095755.csv\n",
      "mnist250_18c_15s_1567101329.csv\n",
      "mnist250_7c_15s_1567096668.csv\n",
      "mnist250_10c_15s_1567097508.csv\n",
      "mnist250_16c_15s_1567099657.csv\n",
      "mnist250_8c_15s_1567096967.csv\n",
      "mnist250_15c_15s_1567099219.csv\n",
      "mnist250_14c_15s_1567098841.csv\n",
      "mnist250_6c_15s_1567096369.csv\n",
      "mnist250_13c_15s_1567098463.csv\n",
      "mnist250_11c_15s_1567097784.csv\n",
      "mnist250_3c_15s_1567095513.csv\n"
     ]
    }
   ],
   "source": [
    "FILES = []\n",
    "for file in os.listdir(RESULTS_FOLDER):\n",
    "    print(file)\n",
    "    FILES.append(file)"
   ]
  },
  {
   "cell_type": "code",
   "execution_count": 44,
   "metadata": {},
   "outputs": [
    {
     "name": "stdout",
     "output_type": "stream",
     "text": [
      "mnist250_12c_15s_1567098125.csv\n",
      "15.178686261177063\n",
      "32.56893678506216\n",
      "------------------\n",
      "mnist250_2c_15s_1567095254.csv\n",
      "15.25575339794159\n",
      "27.099940598011017\n",
      "------------------\n",
      "mnist250_17c_15s_1567100336.csv\n",
      "55.651982486248016\n",
      "98.9167644739151\n",
      "------------------\n",
      "mnist250_9c_15s_1567097254.csv\n",
      "12.149107456207275\n",
      "37.32853456338247\n",
      "------------------\n",
      "mnist250_5c_15s_1567096089.csv\n",
      "8.455990825380598\n",
      "27.16969609260559\n",
      "------------------\n",
      "mnist250_4c_15s_1567095755.csv\n",
      "8.474640429019928\n",
      "33.93063669072257\n",
      "------------------\n",
      "mnist250_18c_15s_1567101329.csv\n",
      "94.54034781455994\n",
      "173.65553060173988\n",
      "------------------\n",
      "mnist250_7c_15s_1567096668.csv\n",
      "13.000652313232422\n",
      "29.981297612190247\n",
      "------------------\n",
      "mnist250_10c_15s_1567097508.csv\n",
      "12.61187607049942\n",
      "31.930827647447586\n",
      "------------------\n",
      "mnist250_16c_15s_1567099657.csv\n",
      "47.81769835948944\n",
      "60.93027697290693\n",
      "------------------\n",
      "mnist250_8c_15s_1567096967.csv\n",
      "8.685997077396937\n",
      "30.014377415180206\n",
      "------------------\n",
      "mnist250_15c_15s_1567099219.csv\n",
      "15.661233050482613\n",
      "53.505903442700706\n",
      "------------------\n",
      "mnist250_14c_15s_1567098841.csv\n",
      "22.86461857386998\n",
      "42.07948513031006\n",
      "------------------\n",
      "mnist250_6c_15s_1567096369.csv\n",
      "12.95224642753601\n",
      "29.92148153781891\n",
      "------------------\n",
      "mnist250_13c_15s_1567098463.csv\n",
      "23.766854095458985\n",
      "34.75188677310943\n",
      "------------------\n",
      "mnist250_11c_15s_1567097784.csv\n",
      "9.492882919311523\n",
      "40.18231133619944\n",
      "------------------\n",
      "mnist250_3c_15s_1567095513.csv\n",
      "11.51574084493849\n",
      "31.561776677767437\n",
      "------------------\n"
     ]
    }
   ],
   "source": [
    "LABELED_RESULTS = []\n",
    "UNLABELED_RESULTS = []\n",
    "\n",
    "for f in FILES:\n",
    "    \n",
    "    print(f)\n",
    "    df = pd.read_csv(os.path.join(RESULTS_FOLDER, f))\n",
    "    \n",
    "    # Percentage of unlabeled samples\n",
    "    #unlabeled_ratio = df.groupby('Label')['Sample ID'].nunique()[-1] / len(df)\n",
    "    #print(unlabeled_ratio)\n",
    "    \n",
    "    # Mean time elapsed per unlabeled data samples\n",
    "    unlabeled_mean = df.groupby('Label')['Time elapsed'].mean()[-1]\n",
    "    UNLABELED_RESULTS.append(unlabeled_mean)\n",
    "    print(unlabeled_mean)\n",
    "    \n",
    "    # Mean time elapsed per labeled data samples\n",
    "    labeled_mean = np.mean( list( set(list(df.groupby('Label')['Time elapsed'].mean())) - set([unlabeled_mean]) ) )\n",
    "    LABELED_RESULTS.append(labeled_mean)\n",
    "    print(labeled_mean)\n",
    "    \n",
    "    print('------------------')"
   ]
  },
  {
   "cell_type": "code",
   "execution_count": 45,
   "metadata": {},
   "outputs": [
    {
     "name": "stdout",
     "output_type": "stream",
     "text": [
      "[27.099940598011017, 27.16969609260559, 29.92148153781891, 29.981297612190247, 30.014377415180206, 31.561776677767437, 31.930827647447586, 32.56893678506216, 33.93063669072257, 34.75188677310943, 37.32853456338247, 40.18231133619944, 42.07948513031006, 53.505903442700706, 60.93027697290693, 98.9167644739151, 173.65553060173988]\n",
      "\n",
      "[8.455990825380598, 8.474640429019928, 8.685997077396937, 9.492882919311523, 11.51574084493849, 12.149107456207275, 12.61187607049942, 12.95224642753601, 13.000652313232422, 15.178686261177063, 15.25575339794159, 15.661233050482613, 22.86461857386998, 23.766854095458985, 47.81769835948944, 55.651982486248016, 94.54034781455994]\n"
     ]
    }
   ],
   "source": [
    "print(sorted(LABELED_RESULTS))\n",
    "\n",
    "print()\n",
    "\n",
    "print(sorted(UNLABELED_RESULTS))"
   ]
  },
  {
   "cell_type": "code",
   "execution_count": 46,
   "metadata": {},
   "outputs": [],
   "source": [
    "labeled_0ms = [0.05327391600536251, 0.059776248113604345, 0.07498836058613395, 0.08419884912993764, 0.11281462267327294, 0.13278451682741332, 0.2812577139204032, 0.3838051672609066, 0.630861246247114, 0.9061988459693061, 2.2275253468089633, 3.5922422144148087, 6.930572907129924, 13.565994987222885, 29.22389286472684, 52.27290748755138, 110.55586173534394]\n",
    "unlabeled_0ms = [0.02504944350065117, 0.027439037703241183, 0.03665830235962474, 0.04189220578724165, 0.05191353330873463, 0.06636824216998992, 0.14476509094238282, 0.2056310987472534, 0.3191975347650876, 0.6296204870397394, 0.847157351175944, 1.7670487960179646, 2.943421721458435, 8.243539094924927, 14.365483244260153, 27.511588764190673, 73.81582657496135]\n",
    "\n",
    "labeled_5ms = [0.7171279589335123, 0.7217899401982625, 0.813613772392273, 0.8339493009779188, 0.8348764512274002, 0.8925260384877524, 0.9720140695571899, 1.2027415831883748, 1.2398951053619385, 1.722577303647995, 2.6688435475031533, 4.369394254684448, 8.583957115809122, 12.091947118441265, 30.0119966506958, 57.39940526485443, 107.91376858949661]\n",
    "unlabeled_5ms = [0.23168635368347168, 0.347182035446167, 0.37892918586730956, 0.4368915217263358, 0.4480837413242885, 0.4626586437225342, 0.4930172988346645, 0.5173329512278239, 0.6275781222752163, 0.9892948865890503, 1.2033613204956055, 1.6294360425737169, 3.9645873175726996, 5.694786826769511, 16.565994799137115, 44.34115815162659, 84.51745732625325]\n",
    "\n",
    "labeled_50ms = [7.145986914634705, 7.657310406366984, 8.40881950855255, 8.45376870367262, 9.366674244403839, 9.413198173046112, 9.553684997558594, 9.662866532802582, 9.983509759108225, 10.035660684108734, 10.424679782655504, 12.365527073542276, 15.288188052177428, 21.19115976492564, 39.184114170074466, 55.16908311843872, 132.61405936876932]\n",
    "unlabeled_50ms = [2.1167375246683755, 2.1213675022125242, 2.134870100021362, 2.2225588162740073, 2.2941352128982544, 2.5035724401474, 2.885777791341146, 3.025022953748703, 3.11644492830549, 3.3058313528696694, 3.5963071717156305, 6.0008832812309265, 8.04686975479126, 8.205911874771118, 19.71894399325053, 41.99177861213684, 53.57342401146889]\n",
    "\n",
    "labeled_200ms = [27.099940598011017, 27.16969609260559, 29.92148153781891, 29.981297612190247, 30.014377415180206, 31.561776677767437, 31.930827647447586, 32.56893678506216, 33.93063669072257, 34.75188677310943, 37.32853456338247, 40.18231133619944, 42.07948513031006, 53.505903442700706, 60.93027697290693, 98.9167644739151, 173.65553060173988]\n",
    "unlabeled_200ms = [8.455990825380598, 8.474640429019928, 8.685997077396937, 9.492882919311523, 11.51574084493849, 12.149107456207275, 12.61187607049942, 12.95224642753601, 13.000652313232422, 15.178686261177063, 15.25575339794159, 15.661233050482613, 22.86461857386998, 23.766854095458985, 47.81769835948944, 55.651982486248016, 94.54034781455994]\n"
   ]
  },
  {
   "cell_type": "code",
   "execution_count": 70,
   "metadata": {},
   "outputs": [
    {
     "data": {
      "text/plain": [
       "<Figure size 567.87x350.963 with 0 Axes>"
      ]
     },
     "metadata": {},
     "output_type": "display_data"
    }
   ],
   "source": [
    "%matplotlib inline\n",
    "import matplotlib.pyplot as plt\n",
    "plt.style.use('seaborn-whitegrid')\n",
    "\n",
    "linestyles = ['-', ':', '--', '-.']\n",
    "\n",
    "#fig = plt.figure()\n",
    "#ax = plt.axes()\n",
    "\n",
    "plt.title('Runtime per sample')\n",
    "plt.xlabel('Number of clients')\n",
    "plt.ylabel('Time (s)')\n",
    "\n",
    "x = list(range(2,19))\n",
    "plt.plot(x, labeled_0ms, linestyle=linestyles[1])\n",
    "plt.plot(x, labeled_5ms, linestyle=linestyles[2])\n",
    "plt.plot(x, labeled_50ms, linestyle=linestyles[0])\n",
    "plt.plot(x, labeled_200ms, linestyle=linestyles[0])\n",
    "plt.legend(['localhost', 'WAN (5ms)', 'LAN (50ms)', 'LAN (200ms)'])\n",
    "\n",
    "plt.ylim(ymin=-10, ymax=175)\n",
    "#plt.xlim(xmin=0.5, xmax=2.5)\n",
    "\n",
    "fig_width_pt = 300.0  # Get this from LaTeX using \\showthe\n",
    "inches_per_pt = 1.0 / 72.27 * 2  # Convert pt to inches\n",
    "golden_mean = ((np.math.sqrt(5) - 1.0) / 2.0)  # Aesthetic ratio\n",
    "fig_width = fig_width_pt * inches_per_pt  # width in inches\n",
    "fig_height = (fig_width * golden_mean)  # height in inches\n",
    "# fig_height = (fig_width * 1)  # height in inches\n",
    "fig_size = [0.95 * fig_width, 0.95 *fig_height]\n",
    "pdf_pages = PdfPages(os.path.join(\"Labeled_MPC.pdf\"))\n",
    "F = plt.gcf()\n",
    "F.set_size_inches(fig_size)\n",
    "pdf_pages.savefig(F, bbox_inches='tight', pad_inches=0.1)\n",
    "plt.clf()\n",
    "pdf_pages.close()"
   ]
  },
  {
   "cell_type": "code",
   "execution_count": 71,
   "metadata": {},
   "outputs": [
    {
     "data": {
      "text/plain": [
       "<Figure size 567.87x350.963 with 0 Axes>"
      ]
     },
     "metadata": {},
     "output_type": "display_data"
    }
   ],
   "source": [
    "%matplotlib inline\n",
    "import matplotlib.pyplot as plt\n",
    "plt.style.use('seaborn-whitegrid')\n",
    "\n",
    "linestyles = ['-', ':', '--', '-.']\n",
    "\n",
    "#fig = plt.figure()\n",
    "#ax = plt.axes()\n",
    "\n",
    "plt.title('Runtime per sample')\n",
    "plt.xlabel('Number of clients')\n",
    "plt.ylabel('Time (s)')\n",
    "\n",
    "x = list(range(2,19))\n",
    "plt.plot(x, unlabeled_0ms, linestyle=linestyles[1])\n",
    "plt.plot(x, unlabeled_5ms, linestyle=linestyles[2])\n",
    "plt.plot(x, unlabeled_50ms, linestyle=linestyles[0])\n",
    "plt.plot(x, unlabeled_200ms, linestyle=linestyles[0])\n",
    "plt.legend(['localhost', 'WAN (5ms)', 'LAN (50ms)', 'LAN (200ms)'])\n",
    "\n",
    "plt.ylim(ymin=-10, ymax=175)\n",
    "#plt.xlim(xmin=0.5, xmax=2.5)\n",
    "\n",
    "fig_width_pt = 300.0  # Get this from LaTeX using \\showthe\n",
    "inches_per_pt = 1.0 / 72.27 * 2  # Convert pt to inches\n",
    "golden_mean = ((np.math.sqrt(5) - 1.0) / 2.0)  # Aesthetic ratio\n",
    "fig_width = fig_width_pt * inches_per_pt  # width in inches\n",
    "fig_height = (fig_width * golden_mean)  # height in inches\n",
    "# fig_height = (fig_width * 1)  # height in inches\n",
    "fig_size = [0.95 * fig_width, 0.95 *fig_height]\n",
    "pdf_pages = PdfPages(os.path.join(\"Unlabeled_MPC.pdf\"))\n",
    "F = plt.gcf()\n",
    "F.set_size_inches(fig_size)\n",
    "pdf_pages.savefig(F, bbox_inches='tight', pad_inches=0.1)\n",
    "plt.clf()\n",
    "pdf_pages.close()"
   ]
  },
  {
   "cell_type": "code",
   "execution_count": 4,
   "metadata": {},
   "outputs": [],
   "source": [
    "from matplotlib.backends.backend_pdf import PdfPages"
   ]
  },
  {
   "cell_type": "code",
   "execution_count": 54,
   "metadata": {},
   "outputs": [
    {
     "data": {
      "text/plain": [
       "<Figure size 567.87x350.963 with 0 Axes>"
      ]
     },
     "metadata": {},
     "output_type": "display_data"
    }
   ],
   "source": []
  },
  {
   "cell_type": "code",
   "execution_count": 25,
   "metadata": {},
   "outputs": [
    {
     "data": {
      "text/plain": [
       "<Figure size 567.87x350.963 with 0 Axes>"
      ]
     },
     "metadata": {},
     "output_type": "display_data"
    }
   ],
   "source": [
    "import os\n",
    "from matplotlib.backends.backend_pdf import PdfPages\n",
    "import numpy as np\n",
    "%matplotlib inline\n",
    "import matplotlib.pyplot as plt\n",
    "plt.style.use('seaborn-whitegrid')\n",
    "\n",
    "linestyles = ['-', ':', '--', '-.']\n",
    "\n",
    "#fig = plt.figure()\n",
    "#ax = plt.axes()\n",
    "\n",
    "plt.title('Runtime per sample')\n",
    "plt.xlabel('Number of clients')\n",
    "plt.ylabel('Time (s)')\n",
    "\n",
    "x_MPC = list(range(2,19))\n",
    "MPC_labeled_0ms = [0.05327391600536251, 0.059776248113604345, 0.07498836058613395, 0.08419884912993764, 0.11281462267327294, 0.13278451682741332, 0.2812577139204032, 0.3838051672609066, 0.630861246247114, 0.9061988459693061, 2.2275253468089633, 3.5922422144148087, 6.930572907129924, 13.565994987222885, 29.22389286472684, 52.27290748755138, 110.55586173534394]\n",
    "plt.plot(x_MPC, MPC_labeled_0ms)\n",
    "\n",
    "x_SecAgg = [2, 3, 4, 5, 6, 7, 8, 9, 10, 11, 12, 13, 14, 15, 16, 17, 18, 19, 20, 30, 40, 50, 60, 70, 80, 90, 100]\n",
    "SecAgg_nodrop_0ms = [0.07388674828314011, 0.1343496878941854, 0.19756906032562258, 0.2630871613820394, 0.3307826439539591, 0.4035215059916179, 0.49192493756612143, 0.6749291976292927, 0.7660953362782796, 0.8991318623224894, 1.30727596282959, 1.129831826686859, 1.2296751618385315, 1.311664879322052, 1.4210659265518188, 1.8476926922798158, 2.048360300064087, 2.221667492389679, 2.4300354599952696, 5.0346530914306635, 8.681818294525145, 13.593776297569274, 19.419429874420167, 26.475403451919554, 34.46864809989929, 43.62159004211426, 53.84520149230957]\n",
    "plt.plot(x_SecAgg[:-5], SecAgg_nodrop_0ms[:-5])\n",
    "\n",
    "plt.legend(['MPC', 'SecAgg'])\n",
    "\n",
    "#plt.ylim(ymin=-10, ymax=175)\n",
    "#plt.xlim(xmin=0.5, xmax=2.5)\n",
    "\n",
    "fig_width_pt = 300.0  # Get this from LaTeX using \\showthe\n",
    "inches_per_pt = 1.0 / 72.27 * 2  # Convert pt to inches\n",
    "golden_mean = ((np.math.sqrt(5) - 1.0) / 2.0)  # Aesthetic ratio\n",
    "fig_width = fig_width_pt * inches_per_pt  # width in inches\n",
    "fig_height = (fig_width * golden_mean)  # height in inches\n",
    "# fig_height = (fig_width * 1)  # height in inches\n",
    "fig_size = [0.95 * fig_width, 0.95 *fig_height]\n",
    "pdf_pages = PdfPages(os.path.join(\"niania.pdf\"))\n",
    "F = plt.gcf()\n",
    "F.set_size_inches(fig_size)\n",
    "pdf_pages.savefig(F, bbox_inches='tight', pad_inches=0.1)\n",
    "plt.clf()\n",
    "pdf_pages.close()\n"
   ]
  },
  {
   "cell_type": "code",
   "execution_count": null,
   "metadata": {},
   "outputs": [],
   "source": []
  },
  {
   "cell_type": "code",
   "execution_count": null,
   "metadata": {},
   "outputs": [],
   "source": []
  }
 ],
 "metadata": {
  "kernelspec": {
   "display_name": "Python 3",
   "language": "python",
   "name": "python3"
  },
  "language_info": {
   "codemirror_mode": {
    "name": "ipython",
    "version": 3
   },
   "file_extension": ".py",
   "mimetype": "text/x-python",
   "name": "python",
   "nbconvert_exporter": "python",
   "pygments_lexer": "ipython3",
   "version": "3.6.5"
  }
 },
 "nbformat": 4,
 "nbformat_minor": 2
}
