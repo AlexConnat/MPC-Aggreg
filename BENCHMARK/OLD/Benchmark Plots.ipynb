{
 "cells": [
  {
   "cell_type": "code",
   "execution_count": 85,
   "metadata": {},
   "outputs": [],
   "source": [
    "import pandas as pd\n",
    "from collections import Counter\n",
    "import numpy as np"
   ]
  },
  {
   "cell_type": "code",
   "execution_count": 237,
   "metadata": {},
   "outputs": [
    {
     "data": {
      "text/html": [
       "<div>\n",
       "<style scoped>\n",
       "    .dataframe tbody tr th:only-of-type {\n",
       "        vertical-align: middle;\n",
       "    }\n",
       "\n",
       "    .dataframe tbody tr th {\n",
       "        vertical-align: top;\n",
       "    }\n",
       "\n",
       "    .dataframe thead th {\n",
       "        text-align: right;\n",
       "    }\n",
       "</style>\n",
       "<table border=\"1\" class=\"dataframe\">\n",
       "  <thead>\n",
       "    <tr style=\"text-align: right;\">\n",
       "      <th></th>\n",
       "      <th>Sample ID</th>\n",
       "      <th>Label</th>\n",
       "      <th>Time elapsed</th>\n",
       "    </tr>\n",
       "  </thead>\n",
       "  <tbody>\n",
       "    <tr>\n",
       "      <th>0</th>\n",
       "      <td>0</td>\n",
       "      <td>-1</td>\n",
       "      <td>263.319303</td>\n",
       "    </tr>\n",
       "    <tr>\n",
       "      <th>1</th>\n",
       "      <td>1</td>\n",
       "      <td>-1</td>\n",
       "      <td>187.297736</td>\n",
       "    </tr>\n",
       "    <tr>\n",
       "      <th>2</th>\n",
       "      <td>2</td>\n",
       "      <td>-1</td>\n",
       "      <td>192.623031</td>\n",
       "    </tr>\n",
       "    <tr>\n",
       "      <th>3</th>\n",
       "      <td>3</td>\n",
       "      <td>0</td>\n",
       "      <td>291.870383</td>\n",
       "    </tr>\n",
       "    <tr>\n",
       "      <th>4</th>\n",
       "      <td>4</td>\n",
       "      <td>4</td>\n",
       "      <td>282.857595</td>\n",
       "    </tr>\n",
       "  </tbody>\n",
       "</table>\n",
       "</div>"
      ],
      "text/plain": [
       "   Sample ID Label  Time elapsed\n",
       "0          0    -1    263.319303\n",
       "1          1    -1    187.297736\n",
       "2          2    -1    192.623031\n",
       "3          3     0    291.870383\n",
       "4          4     4    282.857595"
      ]
     },
     "execution_count": 237,
     "metadata": {},
     "output_type": "execute_result"
    }
   ],
   "source": [
    "df = pd.read_csv('mnist250_10s_18c.csv')\n",
    "df.fillna('-1', inplace=True)\n",
    "\n",
    "df.head(5)"
   ]
  },
  {
   "cell_type": "code",
   "execution_count": 238,
   "metadata": {},
   "outputs": [
    {
     "data": {
      "text/plain": [
       "Label\n",
       "0.0    1\n",
       "4.0    1\n",
       "9.0    1\n",
       "-1     7\n",
       "Name: Sample ID, dtype: int64"
      ]
     },
     "execution_count": 238,
     "metadata": {},
     "output_type": "execute_result"
    }
   ],
   "source": [
    "df.groupby('Label')['Sample ID'].nunique()"
   ]
  },
  {
   "cell_type": "code",
   "execution_count": 239,
   "metadata": {},
   "outputs": [],
   "source": [
    "# Nb of data samples that were NOT labeled\n",
    "nb_unlabeled = df.groupby('Label')['Sample ID'].nunique()['-1']"
   ]
  },
  {
   "cell_type": "code",
   "execution_count": 240,
   "metadata": {},
   "outputs": [
    {
     "data": {
      "text/plain": [
       "Label\n",
       "0.0    291.870383\n",
       "4.0    282.857595\n",
       "9.0    279.906787\n",
       "-1     200.462578\n",
       "Name: Time elapsed, dtype: float64"
      ]
     },
     "execution_count": 240,
     "metadata": {},
     "output_type": "execute_result"
    }
   ],
   "source": [
    "df.groupby('Label')['Time elapsed'].mean()"
   ]
  },
  {
   "cell_type": "code",
   "execution_count": 241,
   "metadata": {},
   "outputs": [],
   "source": [
    "# Mean time elapsed per unlabeled data samples\n",
    "unlabeled_mean = df.groupby('Label')['Time elapsed'].mean()['-1']"
   ]
  },
  {
   "cell_type": "code",
   "execution_count": 242,
   "metadata": {},
   "outputs": [],
   "source": [
    "# Mean time elapsed per labeled data samples\n",
    "labeled_mean = np.mean( list( set(list(df.groupby('Label')['Time elapsed'].mean())) - set([unlabeled_mean]) ) )"
   ]
  },
  {
   "cell_type": "code",
   "execution_count": 243,
   "metadata": {},
   "outputs": [
    {
     "name": "stdout",
     "output_type": "stream",
     "text": [
      "284.87825504938763\n",
      "200.46257826260157\n"
     ]
    }
   ],
   "source": [
    "\n",
    "print(labeled_mean)\n",
    "print(unlabeled_mean)\n"
   ]
  },
  {
   "cell_type": "code",
   "execution_count": null,
   "metadata": {},
   "outputs": [],
   "source": [
    "# Mean elapsed time for n clients (labeled, and then unlabeled data samples:)\n",
    "\n",
    "# n = 2\n",
    "0.05485633320238849\n",
    "0.025861065109054764\n",
    "\n",
    "# n = 3\n",
    "0.0643934767608594\n",
    "0.03179250289867451\n",
    "\n",
    "# n = 4\n",
    "0.12926707944121058\n",
    "0.061759752573376916\n",
    "\n",
    "# n = 5\n",
    "0.1458020776518349\n",
    "0.07082567214965821\n",
    "\n",
    "# n = 6\n",
    "0.19066816892372637\n",
    "0.09497127745979021\n",
    "\n",
    "# n = 7\n",
    "0.2367515176824369\n",
    "0.12100130868104338\n",
    "\n",
    "# n = 8\n",
    "0.45408827227697285\n",
    "0.2332213872614719\n",
    "\n",
    "# n = 9\n",
    "0.6705040394559243\n",
    "0.35774231181954436\n",
    "\n",
    "# n = 10\n",
    "1.1561852600078644\n",
    "0.6439653740653509\n",
    "\n",
    "# n = 11\n",
    "1.9896682901323839\n",
    "1.1486419058860617\n",
    "\n",
    "# n = 12\n",
    "3.8372949510071903\n",
    "2.2821270160793516\n",
    "\n",
    "# n = 13\n",
    "7.463424862027895\n",
    "4.57417126484555\n",
    "\n",
    "# n = 14\n",
    "15.858351587006405\n",
    "9.927424981043888\n",
    "\n",
    "#################################################\n",
    "\n",
    "# n = 15\n",
    "31.688305258750916\n",
    "21.101559495925905\n",
    "\n",
    "# n = 16\n",
    "67.22602019309997\n",
    "41.45615005493164\n",
    "\n",
    "# n = 17\n",
    "135.90005852778754\n",
    "85.83943208058675\n",
    "\n",
    "# n = 18\n",
    "284.87825504938763\n",
    "200.46257826260157\n",
    "\n",
    "# n = 19\n",
    "\n",
    "\n",
    "# n = 20\n"
   ]
  },
  {
   "cell_type": "code",
   "execution_count": 208,
   "metadata": {},
   "outputs": [],
   "source": [
    "import plotly \n",
    "plotly.tools.set_credentials_file(username='JeanBon', api_key='hYeNaVNk6WmOsOocln41')"
   ]
  },
  {
   "cell_type": "code",
   "execution_count": 263,
   "metadata": {},
   "outputs": [
    {
     "name": "stdout",
     "output_type": "stream",
     "text": [
      "High five! You successfully sent some data to your account on plotly. View your plot in your browser at https://plot.ly/~JeanBon/0 or inside your plot.ly account where it is named 'basic-line'\n"
     ]
    },
    {
     "data": {
      "text/html": [
       "<iframe id=\"igraph\" scrolling=\"no\" style=\"border:none;\" seamless=\"seamless\" src=\"https://plot.ly/~JeanBon/0.embed\" height=\"525px\" width=\"100%\"></iframe>"
      ],
      "text/plain": [
       "<chart_studio.tools.PlotlyDisplay object>"
      ]
     },
     "execution_count": 263,
     "metadata": {},
     "output_type": "execute_result"
    }
   ],
   "source": [
    "import plotly.plotly as py\n",
    "import plotly.graph_objs as go\n",
    "\n",
    "\n",
    "x = list(range(2,19))\n",
    "y_l = [0.05485633320238849, 0.0643934767608594, 0.12926707944121058, 0.1458020776518349, 0.19066816892372637,\n",
    "       0.2367515176824369, 0.45408827227697285, 0.6705040394559243, 1.1561852600078644, 1.9896682901323839,\n",
    "       3.8372949510071903, 7.463424862027895, 15.858351587006405, 31.688305258750916, 67.22602019309997,\n",
    "       135.90005852778754, 284.87825504938763]\n",
    "y_u = [0.025861065109054764, 0.03179250289867451, 0.061759752573376916, 0.07082567214965821, 0.09497127745979021,\n",
    "       0.12100130868104338, 0.2332213872614719, 0.35774231181954436, 0.6439653740653509, 1.1486419058860617,\n",
    "       2.2821270160793516, 4.57417126484555, 9.927424981043888, 21.101559495925905, 41.45615005493164,\n",
    "       85.83943208058675, 200.46257826260157]\n",
    "\n",
    "\n",
    "# Quadratic approximation of y_l\n",
    "z = np.polyfit(x, y_l, 2)\n",
    "f = np.poly1d(z)\n",
    "yyy = f(x)\n",
    "\n",
    "\n",
    "trace_labeled = go.Scatter(\n",
    "    x = x,\n",
    "    y = y_l,\n",
    "    name = 'labeled'\n",
    ")\n",
    "\n",
    "trace_unlabeled = go.Scatter(\n",
    "    x = x,\n",
    "    y = y_u,\n",
    "    name = 'unlabeled'\n",
    ")\n",
    "\n",
    "#trace_poly = go.Scatter(\n",
    "#    x = x,\n",
    "#    y = yyy,\n",
    "#    name = 'Quadratic Approximation'\n",
    "#)\n",
    "\n",
    "data = [trace_labeled, trace_unlabeled]\n",
    "\n",
    "py.iplot(data, filename='basic-line')"
   ]
  },
  {
   "cell_type": "code",
   "execution_count": 248,
   "metadata": {},
   "outputs": [
    {
     "name": "stdout",
     "output_type": "stream",
     "text": [
      "17\n"
     ]
    }
   ],
   "source": [
    "print(len(x))"
   ]
  },
  {
   "cell_type": "code",
   "execution_count": 249,
   "metadata": {},
   "outputs": [
    {
     "name": "stdout",
     "output_type": "stream",
     "text": [
      "17\n"
     ]
    }
   ],
   "source": [
    "print(len(y_l))"
   ]
  },
  {
   "cell_type": "code",
   "execution_count": 256,
   "metadata": {},
   "outputs": [
    {
     "data": {
      "text/plain": [
       "array([  1.96309061, -29.746699  ,  86.5110419 ])"
      ]
     },
     "execution_count": 256,
     "metadata": {},
     "output_type": "execute_result"
    }
   ],
   "source": [
    "z = np.polyfit(x, y_l, 2)\n",
    "z"
   ]
  },
  {
   "cell_type": "code",
   "execution_count": 258,
   "metadata": {},
   "outputs": [
    {
     "data": {
      "text/plain": [
       "poly1d([  1.96309061, -29.746699  ,  86.5110419 ])"
      ]
     },
     "execution_count": 258,
     "metadata": {},
     "output_type": "execute_result"
    }
   ],
   "source": [
    "f = np.poly1d(z)\n",
    "f"
   ]
  },
  {
   "cell_type": "code",
   "execution_count": 259,
   "metadata": {},
   "outputs": [
    {
     "data": {
      "text/plain": [
       "[2, 3, 4, 5, 6, 7, 8, 9, 10, 11, 12, 13, 14, 15, 16, 17, 18]"
      ]
     },
     "execution_count": 259,
     "metadata": {},
     "output_type": "execute_result"
    }
   ],
   "source": [
    "x"
   ]
  },
  {
   "cell_type": "code",
   "execution_count": 260,
   "metadata": {},
   "outputs": [
    {
     "data": {
      "text/plain": [
       "array([ 34.87000636,  14.93876043,  -1.06630428, -13.14518776,\n",
       "       -21.29789001, -25.52441104, -25.82475085, -22.19890942,\n",
       "       -14.64688677,  -3.1686829 ,  12.2357022 ,  31.56626853,\n",
       "        54.82301608,  82.00594486, 113.11505487, 148.1503461 ,\n",
       "       187.11181856])"
      ]
     },
     "execution_count": 260,
     "metadata": {},
     "output_type": "execute_result"
    }
   ],
   "source": [
    "f(x)"
   ]
  },
  {
   "cell_type": "code",
   "execution_count": null,
   "metadata": {},
   "outputs": [],
   "source": []
  }
 ],
 "metadata": {
  "kernelspec": {
   "display_name": "Python 3",
   "language": "python",
   "name": "python3"
  },
  "language_info": {
   "codemirror_mode": {
    "name": "ipython",
    "version": 3
   },
   "file_extension": ".py",
   "mimetype": "text/x-python",
   "name": "python",
   "nbconvert_exporter": "python",
   "pygments_lexer": "ipython3",
   "version": "3.6.5"
  }
 },
 "nbformat": 4,
 "nbformat_minor": 2
}
