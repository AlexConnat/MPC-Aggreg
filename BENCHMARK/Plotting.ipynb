{
 "cells": [
  {
   "cell_type": "code",
   "execution_count": 29,
   "metadata": {},
   "outputs": [],
   "source": [
    "import pandas as pd\n",
    "from collections import Counter\n",
    "import numpy as np\n",
    "import os"
   ]
  },
  {
   "cell_type": "code",
   "execution_count": 30,
   "metadata": {},
   "outputs": [],
   "source": [
    "RESULTS_FOLDER = '5MS_LATENCY_RESULTS'"
   ]
  },
  {
   "cell_type": "code",
   "execution_count": 31,
   "metadata": {},
   "outputs": [
    {
     "name": "stdout",
     "output_type": "stream",
     "text": [
      "mnist250_3c_640s_1566814259.csv\n",
      "mnist250_5c_640s_1566814326.csv\n",
      "mnist250_2c_640s_1566814233.csv\n",
      "mnist250_7c_640s_1566814424.csv\n",
      "mnist250_10c_640s_1566814804.csv\n",
      "mnist250_4c_640s_1566814289.csv\n",
      "mnist250_9c_640s_1566814622.csv\n",
      "mnist250_6c_640s_1566814369.csv\n",
      "mnist250_8c_640s_1566814490.csv\n"
     ]
    }
   ],
   "source": [
    "FILES = []\n",
    "for file in os.listdir(RESULTS_FOLDER):\n",
    "    print(file)\n",
    "    FILES.append(file)"
   ]
  },
  {
   "cell_type": "code",
   "execution_count": 32,
   "metadata": {},
   "outputs": [
    {
     "name": "stdout",
     "output_type": "stream",
     "text": [
      "mnist250_3c_640s_1566814259.csv\n",
      "0.03135762567305488\n",
      "0.06477492126112698\n",
      "------------------\n",
      "mnist250_5c_640s_1566814326.csv\n",
      "0.045137089298617455\n",
      "0.09307648862295909\n",
      "------------------\n",
      "mnist250_2c_640s_1566814233.csv\n",
      "0.02719847729176651\n",
      "0.0570171077159205\n",
      "------------------\n",
      "mnist250_7c_640s_1566814424.csv\n",
      "0.07068765276954288\n",
      "0.14252806186869194\n",
      "------------------\n",
      "mnist250_10c_640s_1566814804.csv\n",
      "0.332852812329675\n",
      "0.6384503467354801\n",
      "------------------\n",
      "mnist250_4c_640s_1566814289.csv\n",
      "0.04051502520283952\n",
      "0.0841076974822905\n",
      "------------------\n",
      "mnist250_9c_640s_1566814622.csv\n",
      "0.20193034464174564\n",
      "0.4123542950377921\n",
      "------------------\n",
      "mnist250_6c_640s_1566814369.csv\n",
      "0.060199557980404626\n",
      "0.12038963258736207\n",
      "------------------\n",
      "mnist250_8c_640s_1566814490.csv\n",
      "0.14626116568681394\n",
      "0.2979964917805073\n",
      "------------------\n"
     ]
    }
   ],
   "source": [
    "LABELED_RESULTS = []\n",
    "UNLABELED_RESULTS = []\n",
    "\n",
    "for f in FILES:\n",
    "    \n",
    "    print(f)\n",
    "    df = pd.read_csv(os.path.join(RESULTS_FOLDER, f))\n",
    "    \n",
    "    # Percentage of unlabeled samples\n",
    "    #unlabeled_ratio = df.groupby('Label')['Sample ID'].nunique()[-1] / len(df)\n",
    "    #print(unlabeled_ratio)\n",
    "    \n",
    "    # Mean time elapsed per unlabeled data samples\n",
    "    unlabeled_mean = df.groupby('Label')['Time elapsed'].mean()[-1]\n",
    "    UNLABELED_RESULTS.append(unlabeled_mean)\n",
    "    print(unlabeled_mean)\n",
    "    \n",
    "    # Mean time elapsed per labeled data samples\n",
    "    labeled_mean = np.mean( list( set(list(df.groupby('Label')['Time elapsed'].mean())) - set([unlabeled_mean]) ) )\n",
    "    LABELED_RESULTS.append(labeled_mean)\n",
    "    print(labeled_mean)\n",
    "    \n",
    "    print('------------------')"
   ]
  },
  {
   "cell_type": "code",
   "execution_count": 33,
   "metadata": {},
   "outputs": [],
   "source": [
    "LABELED_RESULTS = sorted(LABELED_RESULTS)\n",
    "UNLABELED_RESULTS = sorted(UNLABELED_RESULTS)"
   ]
  },
  {
   "cell_type": "code",
   "execution_count": 34,
   "metadata": {},
   "outputs": [
    {
     "data": {
      "text/plain": [
       "[<matplotlib.lines.Line2D at 0x118d34630>]"
      ]
     },
     "execution_count": 34,
     "metadata": {},
     "output_type": "execute_result"
    },
    {
     "data": {
      "image/png": "[encoded data removed]",
      "text/plain": [
       "<Figure size 432x288 with 1 Axes>"
      ]
     },
     "metadata": {},
     "output_type": "display_data"
    }
   ],
   "source": [
    "%matplotlib inline\n",
    "import matplotlib.pyplot as plt\n",
    "plt.style.use('seaborn-whitegrid')\n",
    "\n",
    "fig = plt.figure()\n",
    "ax = plt.axes()\n",
    "\n",
    "x = list(range(2,11))\n",
    "\n",
    "ax.plot(x, LABELED_RESULTS)"
   ]
  },
  {
   "cell_type": "code",
   "execution_count": 35,
   "metadata": {},
   "outputs": [
    {
     "data": {
      "text/plain": [
       "[<matplotlib.lines.Line2D at 0x118d91d68>]"
      ]
     },
     "execution_count": 35,
     "metadata": {},
     "output_type": "execute_result"
    },
    {
     "data": {
      "image/png": "[encoded data removed]",
      "text/plain": [
       "<Figure size 432x288 with 1 Axes>"
      ]
     },
     "metadata": {},
     "output_type": "display_data"
    }
   ],
   "source": [
    "%matplotlib inline\n",
    "import matplotlib.pyplot as plt\n",
    "plt.style.use('seaborn-whitegrid')\n",
    "\n",
    "fig = plt.figure()\n",
    "ax = plt.axes()\n",
    "\n",
    "x = list(range(2,11))\n",
    "\n",
    "ax.plot(x, UNLABELED_RESULTS)"
   ]
  },
  {
   "cell_type": "code",
   "execution_count": null,
   "metadata": {},
   "outputs": [],
   "source": []
  }
 ],
 "metadata": {
  "kernelspec": {
   "display_name": "Python 3",
   "language": "python",
   "name": "python3"
  },
  "language_info": {
   "codemirror_mode": {
    "name": "ipython",
    "version": 3
   },
   "file_extension": ".py",
   "mimetype": "text/x-python",
   "name": "python",
   "nbconvert_exporter": "python",
   "pygments_lexer": "ipython3",
   "version": "3.6.5"
  }
 },
 "nbformat": 4,
 "nbformat_minor": 2
}
