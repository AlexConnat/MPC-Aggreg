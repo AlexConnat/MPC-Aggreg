{
 "cells": [
  {
   "cell_type": "code",
   "execution_count": 1,
   "metadata": {},
   "outputs": [],
   "source": [
    "import pandas as pd\n",
    "from collections import Counter\n",
    "import numpy as np\n",
    "import os"
   ]
  },
  {
   "cell_type": "code",
   "execution_count": 2,
   "metadata": {},
   "outputs": [],
   "source": [
    "NO_LATENCY_FOLDER = 'M52XLARGE_NO_LATENCY_RESULTS'"
   ]
  },
  {
   "cell_type": "code",
   "execution_count": 12,
   "metadata": {},
   "outputs": [
    {
     "name": "stdout",
     "output_type": "stream",
     "text": [
      "mnist250_2c_640s_1566810000.csv\n",
      "mnist250_10c_640s_1566810798.csv\n",
      "mnist250_7c_640s_1566810239.csv\n",
      "mnist250_6c_640s_1566810161.csv\n",
      "mnist250_3c_640s_1566810023.csv\n",
      "mnist250_8c_640s_1566810334.csv\n",
      "mnist250_4c_640s_1566810048.csv\n",
      "mnist250_9c_640s_1566810526.csv\n",
      "mnist250_5c_640s_1566810100.csv\n"
     ]
    }
   ],
   "source": [
    "NO_LATENCY_FILES = []\n",
    "for file in os.listdir(NO_LATENCY_FOLDER):\n",
    "    print(file)\n",
    "    NO_LATENCY_FILES.append(file)"
   ]
  },
  {
   "cell_type": "code",
   "execution_count": 46,
   "metadata": {},
   "outputs": [
    {
     "name": "stdout",
     "output_type": "stream",
     "text": [
      "mnist250_2c_640s_1566810000.csv\n",
      "0.024622114447804242\n",
      "0.050606455160535975\n",
      "------------------\n",
      "mnist250_10c_640s_1566810798.csv\n",
      "0.501547560002069\n",
      "0.9987000012008532\n",
      "------------------\n",
      "mnist250_7c_640s_1566810239.csv\n",
      "0.10322454682102909\n",
      "0.21194291805398235\n",
      "------------------\n",
      "mnist250_6c_640s_1566810161.csv\n",
      "0.08441251901479868\n",
      "0.1761254614676188\n",
      "------------------\n",
      "mnist250_3c_640s_1566810023.csv\n",
      "0.02652711711243955\n",
      "0.05680712567317687\n",
      "------------------\n",
      "mnist250_8c_640s_1566810334.csv\n",
      "0.19785438164284355\n",
      "0.4264298007766569\n",
      "------------------\n",
      "mnist250_4c_640s_1566810048.csv\n",
      "0.05630768350808017\n",
      "0.11857639881652106\n",
      "------------------\n",
      "mnist250_9c_640s_1566810526.csv\n",
      "0.29438038170337677\n",
      "0.6010356225749305\n",
      "------------------\n",
      "mnist250_5c_640s_1566810100.csv\n",
      "0.06646942072793056\n",
      "0.13259096539530013\n",
      "------------------\n"
     ]
    }
   ],
   "source": [
    "for f in NO_LATENCY_FILES:\n",
    "    \n",
    "    print(f)\n",
    "    df = pd.read_csv(os.path.join(NO_LATENCY_FOLDER, f))\n",
    "    \n",
    "    # Percentage of unlabeled samples\n",
    "    #unlabeled_ratio = df.groupby('Label')['Sample ID'].nunique()[-1] / len(df)\n",
    "    #print(unlabeled_ratio)\n",
    "    \n",
    "    # Mean time elapsed per unlabeled data samples\n",
    "    unlabeled_mean = df.groupby('Label')['Time elapsed'].mean()[-1]\n",
    "    print(unlabeled_mean)\n",
    "    \n",
    "    # Mean time elapsed per labeled data samples\n",
    "    labeled_mean = np.mean( list( set(list(df.groupby('Label')['Time elapsed'].mean())) - set([unlabeled_mean]) ) )\n",
    "    print(labeled_mean)\n",
    "    \n",
    "    print('------------------')"
   ]
  },
  {
   "cell_type": "code",
   "execution_count": null,
   "metadata": {},
   "outputs": [],
   "source": []
  }
 ],
 "metadata": {
  "kernelspec": {
   "display_name": "Python 3",
   "language": "python",
   "name": "python3"
  },
  "language_info": {
   "codemirror_mode": {
    "name": "ipython",
    "version": 3
   },
   "file_extension": ".py",
   "mimetype": "text/x-python",
   "name": "python",
   "nbconvert_exporter": "python",
   "pygments_lexer": "ipython3",
   "version": "3.6.5"
  }
 },
 "nbformat": 4,
 "nbformat_minor": 2
}
